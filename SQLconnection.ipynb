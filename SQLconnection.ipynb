{
 "cells": [
  {
   "cell_type": "code",
   "execution_count": 1,
   "id": "e68d856e-eb0f-4030-8de9-7bbde4f8888e",
   "metadata": {},
   "outputs": [
    {
     "name": "stdout",
     "output_type": "stream",
     "text": [
      "Requirement already satisfied: pymysql in c:\\users\\ramyalakshmanan\\anaconda3\\lib\\site-packages (1.1.1)\n",
      "Note: you may need to restart the kernel to use updated packages.\n"
     ]
    }
   ],
   "source": [
    "pip install pymysql"
   ]
  },
  {
   "cell_type": "code",
   "execution_count": 3,
   "id": "fe44a184-4c8b-4dcb-8d6f-0fbdf9e5a531",
   "metadata": {},
   "outputs": [],
   "source": [
    "import pandas as pd\n",
    "import numpy as np\n",
    "import pymysql"
   ]
  },
  {
   "cell_type": "code",
   "execution_count": 15,
   "id": "c266ebe3-e3c9-446a-b584-af60d2a02f8f",
   "metadata": {},
   "outputs": [
    {
     "data": {
      "text/html": [
       "<div>\n",
       "<style scoped>\n",
       "    .dataframe tbody tr th:only-of-type {\n",
       "        vertical-align: middle;\n",
       "    }\n",
       "\n",
       "    .dataframe tbody tr th {\n",
       "        vertical-align: top;\n",
       "    }\n",
       "\n",
       "    .dataframe thead th {\n",
       "        text-align: right;\n",
       "    }\n",
       "</style>\n",
       "<table border=\"1\" class=\"dataframe\">\n",
       "  <thead>\n",
       "    <tr style=\"text-align: right;\">\n",
       "      <th></th>\n",
       "      <th>Bus_name</th>\n",
       "      <th>Bus_type</th>\n",
       "      <th>Start_time</th>\n",
       "      <th>End_time</th>\n",
       "      <th>Total_duration</th>\n",
       "      <th>Price</th>\n",
       "      <th>Seats_Available</th>\n",
       "      <th>Ratings</th>\n",
       "      <th>Route_link</th>\n",
       "      <th>Route_name</th>\n",
       "    </tr>\n",
       "  </thead>\n",
       "  <tbody>\n",
       "    <tr>\n",
       "      <th>0</th>\n",
       "      <td>KSRTC (Kerala) - 52</td>\n",
       "      <td>SWIFT-GARUDA A/C SEATER BUS</td>\n",
       "      <td>12:00</td>\n",
       "      <td>20:20</td>\n",
       "      <td>08h 20m</td>\n",
       "      <td>INR 945</td>\n",
       "      <td>18 Seats available</td>\n",
       "      <td>4.0\\n133</td>\n",
       "      <td>https://www.redbus.in/bus-tickets/bangalore-to...</td>\n",
       "      <td>Bangalore to Kozhikode</td>\n",
       "    </tr>\n",
       "    <tr>\n",
       "      <th>1</th>\n",
       "      <td>KSRTC (Kerala) - 1378</td>\n",
       "      <td>AC MULTI AXLE</td>\n",
       "      <td>13:46</td>\n",
       "      <td>21:25</td>\n",
       "      <td>07h 39m</td>\n",
       "      <td>INR 1099</td>\n",
       "      <td>10 Seats available</td>\n",
       "      <td>2.8\\n34</td>\n",
       "      <td>https://www.redbus.in/bus-tickets/bangalore-to...</td>\n",
       "      <td>Bangalore to Kozhikode</td>\n",
       "    </tr>\n",
       "    <tr>\n",
       "      <th>2</th>\n",
       "      <td>KSRTC (Kerala) - 129</td>\n",
       "      <td>SWIFT-GARUDA A/C SEATER BUS</td>\n",
       "      <td>14:15</td>\n",
       "      <td>23:05</td>\n",
       "      <td>08h 50m</td>\n",
       "      <td>INR 945</td>\n",
       "      <td>23 Seats available</td>\n",
       "      <td>4.3\\n93</td>\n",
       "      <td>https://www.redbus.in/bus-tickets/bangalore-to...</td>\n",
       "      <td>Bangalore to Kozhikode</td>\n",
       "    </tr>\n",
       "    <tr>\n",
       "      <th>3</th>\n",
       "      <td>KSRTC (Kerala) - 235</td>\n",
       "      <td>Swift Deluxe Non AC Air Bus (2+2)</td>\n",
       "      <td>15:00</td>\n",
       "      <td>01:00</td>\n",
       "      <td>10h 00m</td>\n",
       "      <td>INR 801</td>\n",
       "      <td>9 Seats available</td>\n",
       "      <td>4.0\\n16</td>\n",
       "      <td>https://www.redbus.in/bus-tickets/bangalore-to...</td>\n",
       "      <td>Bangalore to Kozhikode</td>\n",
       "    </tr>\n",
       "    <tr>\n",
       "      <th>4</th>\n",
       "      <td>KSRTC (Kerala) - 370</td>\n",
       "      <td>AC MULTI AXLE</td>\n",
       "      <td>15:25</td>\n",
       "      <td>23:45</td>\n",
       "      <td>08h 20m</td>\n",
       "      <td>INR 1099</td>\n",
       "      <td>18 Seats available</td>\n",
       "      <td>2.9\\n43</td>\n",
       "      <td>https://www.redbus.in/bus-tickets/bangalore-to...</td>\n",
       "      <td>Bangalore to Kozhikode</td>\n",
       "    </tr>\n",
       "    <tr>\n",
       "      <th>...</th>\n",
       "      <td>...</td>\n",
       "      <td>...</td>\n",
       "      <td>...</td>\n",
       "      <td>...</td>\n",
       "      <td>...</td>\n",
       "      <td>...</td>\n",
       "      <td>...</td>\n",
       "      <td>...</td>\n",
       "      <td>...</td>\n",
       "      <td>...</td>\n",
       "    </tr>\n",
       "    <tr>\n",
       "      <th>9079</th>\n",
       "      <td>Droupadi City Service</td>\n",
       "      <td>A/C Seater (2+3)</td>\n",
       "      <td>15:20</td>\n",
       "      <td>18:10</td>\n",
       "      <td>02h 50m</td>\n",
       "      <td>180</td>\n",
       "      <td>60 Seats available</td>\n",
       "      <td>3.0\\n66</td>\n",
       "      <td>https://www.redbus.in/bus-tickets/kolkata-to-h...</td>\n",
       "      <td>Kolkata to Haldia</td>\n",
       "    </tr>\n",
       "    <tr>\n",
       "      <th>9080</th>\n",
       "      <td>Swapna Paribahan</td>\n",
       "      <td>Non AC Seater (2+3)</td>\n",
       "      <td>16:55</td>\n",
       "      <td>21:25</td>\n",
       "      <td>04h 30m</td>\n",
       "      <td>INR 150</td>\n",
       "      <td>25 Seats available</td>\n",
       "      <td>3.0\\n9</td>\n",
       "      <td>https://www.redbus.in/bus-tickets/kolkata-to-h...</td>\n",
       "      <td>Kolkata to Haldia</td>\n",
       "    </tr>\n",
       "    <tr>\n",
       "      <th>9081</th>\n",
       "      <td>Droupadi Paribahan</td>\n",
       "      <td>A/C Seater (2+3)</td>\n",
       "      <td>14:10</td>\n",
       "      <td>16:58</td>\n",
       "      <td>02h 48m</td>\n",
       "      <td>INR 160</td>\n",
       "      <td>59 Seats available</td>\n",
       "      <td>2.7\\n31</td>\n",
       "      <td>https://www.redbus.in/bus-tickets/kolkata-to-h...</td>\n",
       "      <td>Kolkata to Haldia</td>\n",
       "    </tr>\n",
       "    <tr>\n",
       "      <th>9082</th>\n",
       "      <td>KRISHNAKALI</td>\n",
       "      <td>A/C Seater (2+3)</td>\n",
       "      <td>14:45</td>\n",
       "      <td>17:30</td>\n",
       "      <td>02h 45m</td>\n",
       "      <td>INR 165</td>\n",
       "      <td>61 Seats available</td>\n",
       "      <td>2.2\\n50</td>\n",
       "      <td>https://www.redbus.in/bus-tickets/kolkata-to-h...</td>\n",
       "      <td>Kolkata to Haldia</td>\n",
       "    </tr>\n",
       "    <tr>\n",
       "      <th>9083</th>\n",
       "      <td>Droupadi Bus Service</td>\n",
       "      <td>Non AC Seater (2+3)</td>\n",
       "      <td>16:20</td>\n",
       "      <td>19:10</td>\n",
       "      <td>02h 50m</td>\n",
       "      <td>INR 121</td>\n",
       "      <td>54 Seats available</td>\n",
       "      <td>2.2\\n20</td>\n",
       "      <td>https://www.redbus.in/bus-tickets/kolkata-to-h...</td>\n",
       "      <td>Kolkata to Haldia</td>\n",
       "    </tr>\n",
       "  </tbody>\n",
       "</table>\n",
       "<p>9084 rows × 10 columns</p>\n",
       "</div>"
      ],
      "text/plain": [
       "                   Bus_name                           Bus_type Start_time  \\\n",
       "0       KSRTC (Kerala) - 52        SWIFT-GARUDA A/C SEATER BUS      12:00   \n",
       "1     KSRTC (Kerala) - 1378                      AC MULTI AXLE      13:46   \n",
       "2      KSRTC (Kerala) - 129        SWIFT-GARUDA A/C SEATER BUS      14:15   \n",
       "3      KSRTC (Kerala) - 235  Swift Deluxe Non AC Air Bus (2+2)      15:00   \n",
       "4      KSRTC (Kerala) - 370                      AC MULTI AXLE      15:25   \n",
       "...                     ...                                ...        ...   \n",
       "9079  Droupadi City Service                   A/C Seater (2+3)      15:20   \n",
       "9080       Swapna Paribahan                Non AC Seater (2+3)      16:55   \n",
       "9081     Droupadi Paribahan                   A/C Seater (2+3)      14:10   \n",
       "9082            KRISHNAKALI                   A/C Seater (2+3)      14:45   \n",
       "9083   Droupadi Bus Service                Non AC Seater (2+3)      16:20   \n",
       "\n",
       "     End_time Total_duration     Price     Seats_Available   Ratings  \\\n",
       "0       20:20        08h 20m   INR 945  18 Seats available  4.0\\n133   \n",
       "1       21:25        07h 39m  INR 1099  10 Seats available   2.8\\n34   \n",
       "2       23:05        08h 50m   INR 945  23 Seats available   4.3\\n93   \n",
       "3       01:00        10h 00m   INR 801   9 Seats available   4.0\\n16   \n",
       "4       23:45        08h 20m  INR 1099  18 Seats available   2.9\\n43   \n",
       "...       ...            ...       ...                 ...       ...   \n",
       "9079    18:10        02h 50m       180  60 Seats available   3.0\\n66   \n",
       "9080    21:25        04h 30m   INR 150  25 Seats available    3.0\\n9   \n",
       "9081    16:58        02h 48m   INR 160  59 Seats available   2.7\\n31   \n",
       "9082    17:30        02h 45m   INR 165  61 Seats available   2.2\\n50   \n",
       "9083    19:10        02h 50m   INR 121  54 Seats available   2.2\\n20   \n",
       "\n",
       "                                             Route_link  \\\n",
       "0     https://www.redbus.in/bus-tickets/bangalore-to...   \n",
       "1     https://www.redbus.in/bus-tickets/bangalore-to...   \n",
       "2     https://www.redbus.in/bus-tickets/bangalore-to...   \n",
       "3     https://www.redbus.in/bus-tickets/bangalore-to...   \n",
       "4     https://www.redbus.in/bus-tickets/bangalore-to...   \n",
       "...                                                 ...   \n",
       "9079  https://www.redbus.in/bus-tickets/kolkata-to-h...   \n",
       "9080  https://www.redbus.in/bus-tickets/kolkata-to-h...   \n",
       "9081  https://www.redbus.in/bus-tickets/kolkata-to-h...   \n",
       "9082  https://www.redbus.in/bus-tickets/kolkata-to-h...   \n",
       "9083  https://www.redbus.in/bus-tickets/kolkata-to-h...   \n",
       "\n",
       "                  Route_name  \n",
       "0     Bangalore to Kozhikode  \n",
       "1     Bangalore to Kozhikode  \n",
       "2     Bangalore to Kozhikode  \n",
       "3     Bangalore to Kozhikode  \n",
       "4     Bangalore to Kozhikode  \n",
       "...                      ...  \n",
       "9079       Kolkata to Haldia  \n",
       "9080       Kolkata to Haldia  \n",
       "9081       Kolkata to Haldia  \n",
       "9082       Kolkata to Haldia  \n",
       "9083       Kolkata to Haldia  \n",
       "\n",
       "[9084 rows x 10 columns]"
      ]
     },
     "execution_count": 15,
     "metadata": {},
     "output_type": "execute_result"
    }
   ],
   "source": [
    "df_busno_1=pd.read_csv(\"df_busno_1.csv\")\n",
    "df_busno_2=pd.read_csv(\"df_busno_2.csv\")\n",
    "df_busno_3=pd.read_csv(\"df_busno_3.csv\")\n",
    "df_busno_4=pd.read_csv(\"df_busno_4.csv\")\n",
    "df_busno_5=pd.read_csv(\"df_busno_5.csv\")\n",
    "df_busno_6=pd.read_csv(\"df_busno_6.csv\")\n",
    "df_busno_7=pd.read_csv(\"df_busno_7.csv\")\n",
    "df_busno_8=pd.read_csv(\"df_busno_8.csv\")\n",
    "df_busno_9=pd.read_csv(\"df_busno_9.csv\")\n",
    "df_busno_10=pd.read_csv(\"df_busno_10.csv\")\n",
    "\n",
    "Final_df=pd.concat([df_busno_1,df_busno_2,df_busno_3,df_busno_4,df_busno_5,df_busno_6,\n",
    "                    df_busno_7,df_busno_8,df_busno_9,df_busno_10],ignore_index=True)\n",
    "Final_df"
   ]
  },
  {
   "cell_type": "code",
   "execution_count": 19,
   "id": "7a4eb2d9-a0ab-4ca6-9d01-b35ae6c74158",
   "metadata": {},
   "outputs": [
    {
     "name": "stdout",
     "output_type": "stream",
     "text": [
      "<class 'pandas.core.frame.DataFrame'>\n",
      "RangeIndex: 9084 entries, 0 to 9083\n",
      "Data columns (total 10 columns):\n",
      " #   Column           Non-Null Count  Dtype \n",
      "---  ------           --------------  ----- \n",
      " 0   Bus_name         9077 non-null   object\n",
      " 1   Bus_type         9068 non-null   object\n",
      " 2   Start_time       9077 non-null   object\n",
      " 3   End_time         9077 non-null   object\n",
      " 4   Total_duration   9077 non-null   object\n",
      " 5   Price            9073 non-null   object\n",
      " 6   Seats_Available  9068 non-null   object\n",
      " 7   Ratings          9073 non-null   object\n",
      " 8   Route_link       9084 non-null   object\n",
      " 9   Route_name       9084 non-null   object\n",
      "dtypes: object(10)\n",
      "memory usage: 709.8+ KB\n"
     ]
    }
   ],
   "source": [
    "Final_df.info()"
   ]
  },
  {
   "cell_type": "code",
   "execution_count": 21,
   "id": "1effd163-8aaa-41f9-a773-9b6f7c78c70c",
   "metadata": {},
   "outputs": [
    {
     "data": {
      "text/plain": [
       "0        945.0\n",
       "1       1099.0\n",
       "2        945.0\n",
       "3        801.0\n",
       "4       1099.0\n",
       "         ...  \n",
       "9079     180.0\n",
       "9080     150.0\n",
       "9081     160.0\n",
       "9082     165.0\n",
       "9083     121.0\n",
       "Name: Price, Length: 9084, dtype: float64"
      ]
     },
     "execution_count": 21,
     "metadata": {},
     "output_type": "execute_result"
    }
   ],
   "source": [
    "Final_df[\"Price\"]=Final_df[\"Price\"].str.replace(\"INR\",\"\")\n",
    "Final_df[\"Price\"]=Final_df[\"Price\"].astype(float)\n",
    "Final_df[\"Price\"].fillna(0) "
   ]
  },
  {
   "cell_type": "code",
   "execution_count": 23,
   "id": "c8b15a2a-1dff-410f-a98b-237c1e2183f2",
   "metadata": {},
   "outputs": [
    {
     "name": "stderr",
     "output_type": "stream",
     "text": [
      "C:\\Users\\Ramyalakshmanan\\AppData\\Local\\Temp\\ipykernel_20692\\2582007703.py:5: FutureWarning: A value is trying to be set on a copy of a DataFrame or Series through chained assignment using an inplace method.\n",
      "The behavior will change in pandas 3.0. This inplace method will never work because the intermediate object on which we are setting values always behaves as a copy.\n",
      "\n",
      "For example, when doing 'df[col].method(value, inplace=True)', try using 'df.method({col: value}, inplace=True)' or df[col] = df[col].method(value) instead, to perform the operation inplace on the original object.\n",
      "\n",
      "\n",
      "  Final_df[\"Ratings\"].fillna(0,inplace=True)\n"
     ]
    }
   ],
   "source": [
    "Final_df[\"Ratings\"]=Final_df[\"Ratings\"].str.replace(\"New\",\"\")\n",
    "Final_df[\"Ratings\"]=Final_df[\"Ratings\"].str.strip()\n",
    "Final_df[\"Ratings\"]=Final_df[\"Ratings\"].str.split().str[0]\n",
    "Final_df[\"Ratings\"] = pd.to_numeric(Final_df[\"Ratings\"], errors='coerce')\n",
    "Final_df[\"Ratings\"].fillna(0,inplace=True) "
   ]
  },
  {
   "cell_type": "code",
   "execution_count": 25,
   "id": "8b2d0f4f-eb9b-4536-9fa7-223e848fb8ac",
   "metadata": {},
   "outputs": [
    {
     "name": "stdout",
     "output_type": "stream",
     "text": [
      "<class 'pandas.core.frame.DataFrame'>\n",
      "RangeIndex: 9084 entries, 0 to 9083\n",
      "Data columns (total 10 columns):\n",
      " #   Column           Non-Null Count  Dtype  \n",
      "---  ------           --------------  -----  \n",
      " 0   Bus_name         9077 non-null   object \n",
      " 1   Bus_type         9068 non-null   object \n",
      " 2   Start_time       9077 non-null   object \n",
      " 3   End_time         9077 non-null   object \n",
      " 4   Total_duration   9077 non-null   object \n",
      " 5   Price            9073 non-null   float64\n",
      " 6   Seats_Available  9068 non-null   object \n",
      " 7   Ratings          9084 non-null   float64\n",
      " 8   Route_link       9084 non-null   object \n",
      " 9   Route_name       9084 non-null   object \n",
      "dtypes: float64(2), object(8)\n",
      "memory usage: 709.8+ KB\n"
     ]
    }
   ],
   "source": [
    "Final_df.info()"
   ]
  },
  {
   "cell_type": "code",
   "execution_count": 27,
   "id": "f1c27dc1-1933-4384-9268-dd4d4fc14f32",
   "metadata": {},
   "outputs": [],
   "source": [
    "Final_df = Final_df[Final_df[\"Price\"] <= 7000]"
   ]
  },
  {
   "cell_type": "code",
   "execution_count": 31,
   "id": "bfc42a44-5d7d-4df7-9ca5-120afa3c6cc4",
   "metadata": {},
   "outputs": [],
   "source": [
    "Final_df = Final_df.replace({np.nan: None})"
   ]
  },
  {
   "cell_type": "code",
   "execution_count": 33,
   "id": "3e9a34f2-3dfe-4bfc-aa5f-9cd5672730b0",
   "metadata": {},
   "outputs": [],
   "source": [
    "path=r\"C:/Users/Ramyalakshmanan/Desktop/RedBus/Full_busdetails_df.csv\"\n",
    "Final_df.to_csv(path,index=False)"
   ]
  },
  {
   "cell_type": "code",
   "execution_count": 41,
   "id": "569f8af8-8790-48fb-9dde-eb3fe608cb34",
   "metadata": {},
   "outputs": [
    {
     "name": "stdout",
     "output_type": "stream",
     "text": [
      "5\n",
      "0\n"
     ]
    }
   ],
   "source": [
    "print(Final_df['Bus_type'].isnull().sum()) \n",
    "Final_df['Bus_type'] = Final_df['Bus_type'].fillna('Unknown')\n",
    "print(Final_df['Bus_type'].isnull().sum())  # Should show 0 if all missing values are filled\n"
   ]
  },
  {
   "cell_type": "code",
   "execution_count": 50,
   "id": "1be2a450-1c2b-4ae8-b258-a6d07e367ab9",
   "metadata": {},
   "outputs": [],
   "source": [
    "# Replace all None/NaN values with default values, for example, 0 or 'Unknown' for string columns\n",
    "Final_df = Final_df.fillna({'Seats_Available': 0, 'Bus_type': 'Unknown'})\n"
   ]
  },
  {
   "cell_type": "code",
   "execution_count": 35,
   "id": "3815160d-f2bf-4fbf-b7b4-81770d97716e",
   "metadata": {},
   "outputs": [
    {
     "name": "stdout",
     "output_type": "stream",
     "text": [
      "Database Connected successfully\n"
     ]
    }
   ],
   "source": [
    "con = pymysql.connect(\n",
    "    host=\"localhost\",\n",
    "    user=\"root\",\n",
    "    password=\"Ramya\",\n",
    "    database=\"REDBUS_DATABASE\"\n",
    ")\n",
    "my_cursor = con.cursor()\n",
    "my_cursor.execute(\"CREATE DATABASE IF NOT EXISTS REDBUS_DATABASE\")\n",
    "print(\"Database Connected successfully\")"
   ]
  },
  {
   "cell_type": "code",
   "execution_count": 37,
   "id": "42870513-486e-4c84-be0b-f5491c88bbf0",
   "metadata": {},
   "outputs": [
    {
     "name": "stdout",
     "output_type": "stream",
     "text": [
      "Table Created successfully\n"
     ]
    }
   ],
   "source": [
    "my_cursor.execute('''CREATE TABLE IF NOT EXISTS bus_details(\n",
    "                  ID INT AUTO_INCREMENT PRIMARY KEY,\n",
    "                  Bus_name VARCHAR(255) NOT NULL,\n",
    "                  Bus_type VARCHAR(255) NOT NULL,\n",
    "                  Start_time VARCHAR(255) NOT NULL,\n",
    "                  End_time VARCHAR(255) NOT NULL,\n",
    "                  Total_duration VARCHAR(255) NOT NULL,\n",
    "                  Price FLOAT NULL,\n",
    "                  Seats_Available VARCHAR(255) NOT NULL,\n",
    "                  Ratings Float NULL,\n",
    "                  Route_link VARCHAR(255) NULL,\n",
    "                  Route_name VARCHAR(255) NULL\n",
    "                  )''')\n",
    "print(\"Table Created successfully\")"
   ]
  },
  {
   "cell_type": "code",
   "execution_count": 52,
   "id": "d07c7e4b-44fb-427d-abdd-3f29370722c8",
   "metadata": {},
   "outputs": [
    {
     "name": "stdout",
     "output_type": "stream",
     "text": [
      "Values inserted successfully\n"
     ]
    }
   ],
   "source": [
    "insert_query = ('''INSERT INTO bus_details(\n",
    "                    Bus_name,\n",
    "                    Bus_type,\n",
    "                    Start_time,\n",
    "                    End_time,\n",
    "                    Total_duration,\n",
    "                    Price,\n",
    "                    Seats_Available,\n",
    "                    Ratings,\n",
    "                    Route_link,\n",
    "                    Route_name)\n",
    "                  VALUES(%s, %s, %s, %s, %s, %s, %s, %s, %s, %s)''')\n",
    "\n",
    "data = Final_df.values.tolist()\n",
    "\n",
    "try:\n",
    "    my_cursor.executemany(insert_query, data)\n",
    "    con.commit()\n",
    "    print(\"Values inserted successfully\")\n",
    "except Exception as e:\n",
    "    print(f\"Error: {e}\")"
   ]
  },
  {
   "cell_type": "code",
   "execution_count": null,
   "id": "e59e4d27-355b-4745-a593-c17e34fe7832",
   "metadata": {},
   "outputs": [],
   "source": []
  },
  {
   "cell_type": "code",
   "execution_count": null,
   "id": "e14a9130-0133-4aad-963e-091c328ffeab",
   "metadata": {},
   "outputs": [],
   "source": []
  }
 ],
 "metadata": {
  "kernelspec": {
   "display_name": "Python 3 (ipykernel)",
   "language": "python",
   "name": "python3"
  },
  "language_info": {
   "codemirror_mode": {
    "name": "ipython",
    "version": 3
   },
   "file_extension": ".py",
   "mimetype": "text/x-python",
   "name": "python",
   "nbconvert_exporter": "python",
   "pygments_lexer": "ipython3",
   "version": "3.12.4"
  }
 },
 "nbformat": 4,
 "nbformat_minor": 5
}
